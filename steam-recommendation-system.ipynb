{
 "cells": [
  {
   "cell_type": "code",
   "execution_count": 1,
   "id": "f09d57fb",
   "metadata": {
    "execution": {
     "iopub.execute_input": "2025-08-22T11:23:52.313869Z",
     "iopub.status.busy": "2025-08-22T11:23:52.313134Z",
     "iopub.status.idle": "2025-08-22T11:23:59.719686Z",
     "shell.execute_reply": "2025-08-22T11:23:59.718975Z"
    },
    "papermill": {
     "duration": 7.412324,
     "end_time": "2025-08-22T11:23:59.721330",
     "exception": false,
     "start_time": "2025-08-22T11:23:52.309006",
     "status": "completed"
    },
    "tags": []
   },
   "outputs": [
    {
     "name": "stdout",
     "output_type": "stream",
     "text": [
      "Executing command: sudo apt-get install libmariadb-dev\n",
      "Reading package lists...\n",
      "Building dependency tree...\n",
      "Reading state information...\n",
      "The following packages were automatically installed and are no longer required:\n",
      "  libaom-dev libarmadillo-dev libarpack2-dev libblosc-dev libcfitsio-dev\n",
      "  libdav1d-dev libde265-dev libfreexl-dev libfyba-dev libgeos-dev\n",
      "  libgeotiff-dev libgif-dev libhdf4-alt-dev libheif-dev libjson-c-dev\n",
      "  libkml-dev libkmlconvenience1 libkmlregionator1 libkmlxsd1 liblz4-dev\n",
      "  libminizip-dev libnetcdf-dev libodbccr2 libogdi-dev libpoppler-dev\n",
      "  libpoppler-private-dev libpq-dev libproj-dev libqhull-dev libqhull8.0\n",
      "  libqhullcpp8.0 librttopo-dev libspatialite-dev libsqlite3-dev libsuperlu-dev\n",
      "  liburiparser-dev libwebp-dev libx265-dev libxerces-c-dev unixodbc-dev\n",
      "Use 'sudo apt autoremove' to remove them.\n",
      "The following additional packages will be installed:\n",
      "  libmariadb3 mariadb-common\n",
      "The following packages will be REMOVED:\n",
      "  default-libmysqlclient-dev libgdal-dev libmysqlclient-dev\n",
      "The following NEW packages will be installed:\n",
      "  libmariadb-dev libmariadb3 mariadb-common\n",
      "0 upgraded, 3 newly installed, 3 to remove and 38 not upgraded.\n",
      "Need to get 405 kB of archives.\n",
      "After this operation, 9,508 kB disk space will be freed.\n",
      "Get:1 http://archive.ubuntu.com/ubuntu jammy-updates/universe amd64 mariadb-common all 1:10.6.22-0ubuntu0.22.04.1 [16.5 kB]\n",
      "Get:2 http://archive.ubuntu.com/ubuntu jammy-updates/universe amd64 libmariadb3 amd64 1:10.6.22-0ubuntu0.22.04.1 [188 kB]\n",
      "Get:3 http://archive.ubuntu.com/ubuntu jammy-updates/universe amd64 libmariadb-dev amd64 1:10.6.22-0ubuntu0.22.04.1 [200 kB]\n",
      "Fetched 405 kB in 0s (1,773 kB/s)\n",
      "(Reading database ... \n",
      "(Reading database ... 5%\n",
      "(Reading database ... 10%\n",
      "(Reading database ... 15%\n",
      "(Reading database ... 20%\n",
      "(Reading database ... 25%\n",
      "(Reading database ... 30%\n",
      "(Reading database ... 35%\n",
      "(Reading database ... 40%\n",
      "(Reading database ... 45%\n",
      "(Reading database ... 50%\n",
      "(Reading database ... 55%\n",
      "(Reading database ... 60%\n",
      "(Reading database ... 65%\n",
      "(Reading database ... 70%\n",
      "(Reading database ... 75%\n",
      "(Reading database ... 80%\n",
      "(Reading database ... 85%\n",
      "(Reading database ... 90%\n",
      "(Reading database ... 95%\n",
      "(Reading database ... 100%\n",
      "(Reading database ... 128663 files and directories currently installed.)\n",
      "Removing libgdal-dev (3.8.4+dfsg-1~jammy0) ...\n",
      "Removing default-libmysqlclient-dev:amd64 (1.0.8) ...\n",
      "Removing libmysqlclient-dev (8.0.42-0ubuntu0.22.04.1) ...\n",
      "Selecting previously unselected package mariadb-common.\n",
      "(Reading database ... \n",
      "(Reading database ... 5%\n",
      "(Reading database ... 10%\n",
      "(Reading database ... 15%\n",
      "(Reading database ... 20%\n",
      "(Reading database ... 25%\n",
      "(Reading database ... 30%\n",
      "(Reading database ... 35%\n",
      "(Reading database ... 40%\n",
      "(Reading database ... 45%\n",
      "(Reading database ... 50%\n",
      "(Reading database ... 55%\n",
      "(Reading database ... 60%\n",
      "(Reading database ... 65%\n",
      "(Reading database ... 70%\n",
      "(Reading database ... 75%\n",
      "(Reading database ... 80%\n",
      "(Reading database ... 85%\n",
      "(Reading database ... 90%\n",
      "(Reading database ... 95%\n",
      "(Reading database ... 100%\n",
      "(Reading database ... 128545 files and directories currently installed.)\n",
      "Preparing to unpack .../mariadb-common_1%3a10.6.22-0ubuntu0.22.04.1_all.deb ...\n",
      "Unpacking mariadb-common (1:10.6.22-0ubuntu0.22.04.1) ...\n",
      "Selecting previously unselected package libmariadb3:amd64.\n",
      "Preparing to unpack .../libmariadb3_1%3a10.6.22-0ubuntu0.22.04.1_amd64.deb ...\n",
      "Unpacking libmariadb3:amd64 (1:10.6.22-0ubuntu0.22.04.1) ...\n",
      "Selecting previously unselected package libmariadb-dev.\n",
      "Preparing to unpack .../libmariadb-dev_1%3a10.6.22-0ubuntu0.22.04.1_amd64.deb ...\n",
      "Unpacking libmariadb-dev (1:10.6.22-0ubuntu0.22.04.1) ...\n",
      "Setting up mariadb-common (1:10.6.22-0ubuntu0.22.04.1) ...\n",
      "update-alternatives: using /etc/mysql/mariadb.cnf to provide /etc/mysql/my.cnf (my.cnf) in auto mode\n",
      "Setting up libmariadb3:amd64 (1:10.6.22-0ubuntu0.22.04.1) ...\n",
      "Setting up libmariadb-dev (1:10.6.22-0ubuntu0.22.04.1) ...\n",
      "Processing triggers for man-db (2.10.2-1) ...\n",
      "Processing triggers for libc-bin (2.35-0ubuntu3.8) ...\n",
      "/sbin/ldconfig.real: /usr/local/lib/libumf.so.0 is not a symbolic link\n",
      "\n",
      "/sbin/ldconfig.real: /usr/local/lib/libtcm_debug.so.1 is not a symbolic link\n",
      "\n",
      "/sbin/ldconfig.real: /usr/local/lib/libtcm.so.1 is not a symbolic link\n",
      "\n",
      "/sbin/ldconfig.real: /usr/local/lib/libhwloc.so.15 is not a symbolic link\n",
      "\n",
      "/sbin/ldconfig.real: /usr/local/lib/libur_loader.so.0 is not a symbolic link\n",
      "\n",
      "/sbin/ldconfig.real: /usr/local/lib/libur_adapter_level_zero.so.0 is not a symbolic link\n",
      "\n",
      "/sbin/ldconfig.real: /usr/local/lib/libur_adapter_opencl.so.0 is not a symbolic link\n",
      "\n",
      "/sbin/ldconfig.real: /usr/local/lib/libtbbbind_2_5.so.3 is not a symbolic link\n",
      "\n",
      "/sbin/ldconfig.real: /usr/local/lib/libtbbbind.so.3 is not a symbolic link\n",
      "\n",
      "/sbin/ldconfig.real: /usr/local/lib/libtbbbind_2_0.so.3 is not a symbolic link\n",
      "\n",
      "/sbin/ldconfig.real: /usr/local/lib/libtbb.so.12 is not a symbolic link\n",
      "\n",
      "/sbin/ldconfig.real: /usr/local/lib/libtbbmalloc_proxy.so.2 is not a symbolic link\n",
      "\n",
      "/sbin/ldconfig.real: /usr/local/lib/libtbbmalloc.so.2 is not a symbolic link\n",
      "\n",
      "\n"
     ]
    }
   ],
   "source": [
    "# For Important MariaDB Connector\n",
    "import subprocess\n",
    "import sys\n",
    "def install_dep_mariadb():\n",
    "    \"\"\"\n",
    "    This is for installing maria db lib using terminal\n",
    "    \"\"\"\n",
    "    command = ['sudo', 'apt-get', 'install', 'libmariadb-dev']\n",
    "    try:\n",
    "        print(f\"Executing command: {' '.join(command)}\")\n",
    "        result = subprocess.run(command, check=True, capture_output=True, text=True)\n",
    "        print(result.stdout)\n",
    "    except Exception as e:\n",
    "        print(f\"I Don't know some error ig {e}\")\n",
    "install_dep_mariadb()"
   ]
  },
  {
   "cell_type": "code",
   "execution_count": 2,
   "id": "18a140c2",
   "metadata": {
    "execution": {
     "iopub.execute_input": "2025-08-22T11:23:59.728205Z",
     "iopub.status.busy": "2025-08-22T11:23:59.727981Z",
     "iopub.status.idle": "2025-08-22T11:24:11.531138Z",
     "shell.execute_reply": "2025-08-22T11:24:11.530199Z"
    },
    "papermill": {
     "duration": 11.807902,
     "end_time": "2025-08-22T11:24:11.532492",
     "exception": false,
     "start_time": "2025-08-22T11:23:59.724590",
     "status": "completed"
    },
    "tags": []
   },
   "outputs": [
    {
     "name": "stdout",
     "output_type": "stream",
     "text": [
      "Requirement already satisfied: pandas in /usr/local/lib/python3.11/dist-packages (2.2.3)\r\n",
      "Requirement already satisfied: sqlalchemy in /usr/local/lib/python3.11/dist-packages (2.0.41)\r\n",
      "Requirement already satisfied: scikit-learn in /usr/local/lib/python3.11/dist-packages (1.2.2)\r\n",
      "Collecting mariadb\r\n",
      "  Downloading mariadb-1.1.13.tar.gz (111 kB)\r\n",
      "\u001b[2K     \u001b[90m━━━━━━━━━━━━━━━━━━━━━━━━━━━━━━━━━━━━━━━\u001b[0m \u001b[32m111.1/111.1 kB\u001b[0m \u001b[31m3.5 MB/s\u001b[0m eta \u001b[36m0:00:00\u001b[0m\r\n",
      "\u001b[?25h  Installing build dependencies ... \u001b[?25l\u001b[?25hdone\r\n",
      "  Getting requirements to build wheel ... \u001b[?25l\u001b[?25hdone\r\n",
      "  Preparing metadata (pyproject.toml) ... \u001b[?25l\u001b[?25hdone\r\n",
      "Requirement already satisfied: numpy>=1.23.2 in /usr/local/lib/python3.11/dist-packages (from pandas) (1.26.4)\r\n",
      "Requirement already satisfied: python-dateutil>=2.8.2 in /usr/local/lib/python3.11/dist-packages (from pandas) (2.9.0.post0)\r\n",
      "Requirement already satisfied: pytz>=2020.1 in /usr/local/lib/python3.11/dist-packages (from pandas) (2025.2)\r\n",
      "Requirement already satisfied: tzdata>=2022.7 in /usr/local/lib/python3.11/dist-packages (from pandas) (2025.2)\r\n",
      "Requirement already satisfied: greenlet>=1 in /usr/local/lib/python3.11/dist-packages (from sqlalchemy) (3.2.3)\r\n",
      "Requirement already satisfied: typing-extensions>=4.6.0 in /usr/local/lib/python3.11/dist-packages (from sqlalchemy) (4.14.0)\r\n",
      "Requirement already satisfied: scipy>=1.3.2 in /usr/local/lib/python3.11/dist-packages (from scikit-learn) (1.15.3)\r\n",
      "Requirement already satisfied: joblib>=1.1.1 in /usr/local/lib/python3.11/dist-packages (from scikit-learn) (1.5.1)\r\n",
      "Requirement already satisfied: threadpoolctl>=2.0.0 in /usr/local/lib/python3.11/dist-packages (from scikit-learn) (3.6.0)\r\n",
      "Requirement already satisfied: packaging in /usr/local/lib/python3.11/dist-packages (from mariadb) (25.0)\r\n",
      "Requirement already satisfied: mkl_fft in /usr/local/lib/python3.11/dist-packages (from numpy>=1.23.2->pandas) (1.3.8)\r\n",
      "Requirement already satisfied: mkl_random in /usr/local/lib/python3.11/dist-packages (from numpy>=1.23.2->pandas) (1.2.4)\r\n",
      "Requirement already satisfied: mkl_umath in /usr/local/lib/python3.11/dist-packages (from numpy>=1.23.2->pandas) (0.1.1)\r\n",
      "Requirement already satisfied: mkl in /usr/local/lib/python3.11/dist-packages (from numpy>=1.23.2->pandas) (2025.2.0)\r\n",
      "Requirement already satisfied: tbb4py in /usr/local/lib/python3.11/dist-packages (from numpy>=1.23.2->pandas) (2022.2.0)\r\n",
      "Requirement already satisfied: mkl-service in /usr/local/lib/python3.11/dist-packages (from numpy>=1.23.2->pandas) (2.4.1)\r\n",
      "Requirement already satisfied: six>=1.5 in /usr/local/lib/python3.11/dist-packages (from python-dateutil>=2.8.2->pandas) (1.17.0)\r\n",
      "Requirement already satisfied: intel-openmp<2026,>=2024 in /usr/local/lib/python3.11/dist-packages (from mkl->numpy>=1.23.2->pandas) (2024.2.0)\r\n",
      "Requirement already satisfied: tbb==2022.* in /usr/local/lib/python3.11/dist-packages (from mkl->numpy>=1.23.2->pandas) (2022.2.0)\r\n",
      "Requirement already satisfied: tcmlib==1.* in /usr/local/lib/python3.11/dist-packages (from tbb==2022.*->mkl->numpy>=1.23.2->pandas) (1.4.0)\r\n",
      "Requirement already satisfied: intel-cmplr-lib-rt in /usr/local/lib/python3.11/dist-packages (from mkl_umath->numpy>=1.23.2->pandas) (2024.2.0)\r\n",
      "Requirement already satisfied: intel-cmplr-lib-ur==2024.2.0 in /usr/local/lib/python3.11/dist-packages (from intel-openmp<2026,>=2024->mkl->numpy>=1.23.2->pandas) (2024.2.0)\r\n",
      "Building wheels for collected packages: mariadb\r\n",
      "  Building wheel for mariadb (pyproject.toml) ... \u001b[?25l\u001b[?25hdone\r\n",
      "  Created wheel for mariadb: filename=mariadb-1.1.13-cp311-cp311-linux_x86_64.whl size=201571 sha256=2d11c3e381c140b5c9e1d58e7a56ef5a53b12d4baf6dbe703f0358410b8767d9\r\n",
      "  Stored in directory: /root/.cache/pip/wheels/42/30/bb/6bb56b4072e3388e5788edd7fdfa16a81dcca702175da20684\r\n",
      "Successfully built mariadb\r\n",
      "Installing collected packages: mariadb\r\n",
      "Successfully installed mariadb-1.1.13\r\n"
     ]
    }
   ],
   "source": [
    "!pip install pandas sqlalchemy scikit-learn mariadb"
   ]
  },
  {
   "cell_type": "code",
   "execution_count": 3,
   "id": "5d57f2a8",
   "metadata": {
    "execution": {
     "iopub.execute_input": "2025-08-22T11:24:11.541081Z",
     "iopub.status.busy": "2025-08-22T11:24:11.540304Z",
     "iopub.status.idle": "2025-08-22T11:24:14.648110Z",
     "shell.execute_reply": "2025-08-22T11:24:14.647403Z"
    },
    "papermill": {
     "duration": 3.113513,
     "end_time": "2025-08-22T11:24:14.649623",
     "exception": false,
     "start_time": "2025-08-22T11:24:11.536110",
     "status": "completed"
    },
    "tags": []
   },
   "outputs": [],
   "source": [
    "from sklearn.feature_extraction.text import TfidfVectorizer\n",
    "from sklearn.metrics.pairwise import cosine_similarity\n",
    "import pandas as pd\n",
    "from sqlalchemy import create_engine\n",
    "import mariadb\n",
    "from kaggle_secrets import UserSecretsClient\n",
    "import joblib"
   ]
  },
  {
   "cell_type": "code",
   "execution_count": 4,
   "id": "ef7ee92e",
   "metadata": {
    "execution": {
     "iopub.execute_input": "2025-08-22T11:24:14.657141Z",
     "iopub.status.busy": "2025-08-22T11:24:14.656848Z",
     "iopub.status.idle": "2025-08-22T11:25:03.875753Z",
     "shell.execute_reply": "2025-08-22T11:25:03.875124Z"
    },
    "papermill": {
     "duration": 49.223963,
     "end_time": "2025-08-22T11:25:03.877074",
     "exception": false,
     "start_time": "2025-08-22T11:24:14.653111",
     "status": "completed"
    },
    "tags": []
   },
   "outputs": [],
   "source": [
    "user_secrets = UserSecretsClient()\n",
    "\n",
    "DB_HOST = user_secrets.get_secret(\"DB_HOST\")\n",
    "DB_NAME = user_secrets.get_secret(\"DB_NAME\")\n",
    "DB_PASSWORD = user_secrets.get_secret(\"DB_PASSWORD\")\n",
    "DB_PORT = user_secrets.get_secret(\"DB_PORT\")\n",
    "DB_USER = user_secrets.get_secret(\"DB_USER\")\n",
    "\n",
    "# This query is for subsetting and mixing\n",
    "sql_query = \"\"\"\n",
    "SELECT\n",
    "    a.id, a.name, a.short_description, a.positive_reviews, a.negative_reviews, a.achievements_count,\n",
    "    GROUP_CONCAT(DISTINCT g.name SEPARATOR ' ') AS genres,\n",
    "    GROUP_CONCAT(DISTINCT c.name SEPARATOR ' ') AS categories,\n",
    "    GROUP_CONCAT(DISTINCT t.name SEPARATOR ' ') AS tags\n",
    "FROM\n",
    "    apps a\n",
    "LEFT JOIN app_genres ag ON a.id = ag.app_id\n",
    "LEFT JOIN genres g ON ag.genre_id = g.id\n",
    "LEFT JOIN app_categories ac ON a.id = ac.app_id\n",
    "LEFT JOIN categories c ON ac.category_id = c.id\n",
    "LEFT JOIN app_tags atg ON a.id = atg.app_id\n",
    "LEFT JOIN tags t ON atg.tag_id = t.id\n",
    "WHERE\n",
    "    a.type = 'game' AND a.positive_reviews + a.negative_reviews > 100\n",
    "GROUP BY\n",
    "    a.id;\n",
    "\"\"\"\n",
    "engine = create_engine(\n",
    "    f\"mariadb+mariadbconnector://{DB_USER}:{DB_PASSWORD}@{DB_HOST}:{DB_PORT}/{DB_NAME}\"\n",
    ")\n",
    "df = pd.read_sql(sql_query, engine)"
   ]
  },
  {
   "cell_type": "code",
   "execution_count": 5,
   "id": "f853ec0d",
   "metadata": {
    "execution": {
     "iopub.execute_input": "2025-08-22T11:25:03.884935Z",
     "iopub.status.busy": "2025-08-22T11:25:03.884260Z",
     "iopub.status.idle": "2025-08-22T11:25:03.914052Z",
     "shell.execute_reply": "2025-08-22T11:25:03.913304Z"
    },
    "papermill": {
     "duration": 0.034775,
     "end_time": "2025-08-22T11:25:03.915269",
     "exception": false,
     "start_time": "2025-08-22T11:25:03.880494",
     "status": "completed"
    },
    "tags": []
   },
   "outputs": [
    {
     "name": "stdout",
     "output_type": "stream",
     "text": [
      "Data loaded successfully. Found 20986 games.\n",
      "Starting feature engineering...\n"
     ]
    },
    {
     "data": {
      "text/html": [
       "<div>\n",
       "<style scoped>\n",
       "    .dataframe tbody tr th:only-of-type {\n",
       "        vertical-align: middle;\n",
       "    }\n",
       "\n",
       "    .dataframe tbody tr th {\n",
       "        vertical-align: top;\n",
       "    }\n",
       "\n",
       "    .dataframe thead th {\n",
       "        text-align: right;\n",
       "    }\n",
       "</style>\n",
       "<table border=\"1\" class=\"dataframe\">\n",
       "  <thead>\n",
       "    <tr style=\"text-align: right;\">\n",
       "      <th></th>\n",
       "      <th>id</th>\n",
       "      <th>name</th>\n",
       "      <th>short_description</th>\n",
       "      <th>positive_reviews</th>\n",
       "      <th>negative_reviews</th>\n",
       "      <th>achievements_count</th>\n",
       "      <th>genres</th>\n",
       "      <th>categories</th>\n",
       "      <th>tags</th>\n",
       "    </tr>\n",
       "  </thead>\n",
       "  <tbody>\n",
       "    <tr>\n",
       "      <th>0</th>\n",
       "      <td>10</td>\n",
       "      <td>Counter-Strike</td>\n",
       "      <td>Play the world's number 1 online action game. ...</td>\n",
       "      <td>243818</td>\n",
       "      <td>6427</td>\n",
       "      <td>0</td>\n",
       "      <td>Action</td>\n",
       "      <td>Color Alternatives Custom Volume Controls Fami...</td>\n",
       "      <td>1980s 1990's Action Assassin Classic Competiti...</td>\n",
       "    </tr>\n",
       "    <tr>\n",
       "      <th>1</th>\n",
       "      <td>20</td>\n",
       "      <td>Team Fortress Classic</td>\n",
       "      <td>One of the most popular online action games of...</td>\n",
       "      <td>7602</td>\n",
       "      <td>1136</td>\n",
       "      <td>0</td>\n",
       "      <td>Action</td>\n",
       "      <td>Custom Volume Controls Family Sharing Keyboard...</td>\n",
       "      <td>1990's Action Class-Based Classic Co-op Compet...</td>\n",
       "    </tr>\n",
       "    <tr>\n",
       "      <th>2</th>\n",
       "      <td>30</td>\n",
       "      <td>Day of Defeat</td>\n",
       "      <td>Enlist in an intense brand of Axis vs. Allied ...</td>\n",
       "      <td>6414</td>\n",
       "      <td>688</td>\n",
       "      <td>0</td>\n",
       "      <td>Action</td>\n",
       "      <td>Camera Comfort Color Alternatives Custom Volum...</td>\n",
       "      <td>Action Class-Based Classic Co-op Difficult Fir...</td>\n",
       "    </tr>\n",
       "    <tr>\n",
       "      <th>3</th>\n",
       "      <td>40</td>\n",
       "      <td>Deathmatch Classic</td>\n",
       "      <td>Enjoy fast-paced multiplayer gaming with Death...</td>\n",
       "      <td>2618</td>\n",
       "      <td>545</td>\n",
       "      <td>0</td>\n",
       "      <td>Action</td>\n",
       "      <td>Color Alternatives Custom Volume Controls Fami...</td>\n",
       "      <td>1990's Action Arena Shooter Classic Co-op Comp...</td>\n",
       "    </tr>\n",
       "    <tr>\n",
       "      <th>4</th>\n",
       "      <td>50</td>\n",
       "      <td>Half-Life: Opposing Force</td>\n",
       "      <td>Return to the Black Mesa Research Facility as ...</td>\n",
       "      <td>24363</td>\n",
       "      <td>1198</td>\n",
       "      <td>0</td>\n",
       "      <td>Action</td>\n",
       "      <td>Adjustable Difficulty Custom Volume Controls F...</td>\n",
       "      <td>1990's Action Adventure Aliens Atmospheric Cla...</td>\n",
       "    </tr>\n",
       "  </tbody>\n",
       "</table>\n",
       "</div>"
      ],
      "text/plain": [
       "   id                       name  \\\n",
       "0  10             Counter-Strike   \n",
       "1  20      Team Fortress Classic   \n",
       "2  30              Day of Defeat   \n",
       "3  40         Deathmatch Classic   \n",
       "4  50  Half-Life: Opposing Force   \n",
       "\n",
       "                                   short_description  positive_reviews  \\\n",
       "0  Play the world's number 1 online action game. ...            243818   \n",
       "1  One of the most popular online action games of...              7602   \n",
       "2  Enlist in an intense brand of Axis vs. Allied ...              6414   \n",
       "3  Enjoy fast-paced multiplayer gaming with Death...              2618   \n",
       "4  Return to the Black Mesa Research Facility as ...             24363   \n",
       "\n",
       "   negative_reviews  achievements_count  genres  \\\n",
       "0              6427                   0  Action   \n",
       "1              1136                   0  Action   \n",
       "2               688                   0  Action   \n",
       "3               545                   0  Action   \n",
       "4              1198                   0  Action   \n",
       "\n",
       "                                          categories  \\\n",
       "0  Color Alternatives Custom Volume Controls Fami...   \n",
       "1  Custom Volume Controls Family Sharing Keyboard...   \n",
       "2  Camera Comfort Color Alternatives Custom Volum...   \n",
       "3  Color Alternatives Custom Volume Controls Fami...   \n",
       "4  Adjustable Difficulty Custom Volume Controls F...   \n",
       "\n",
       "                                                tags  \n",
       "0  1980s 1990's Action Assassin Classic Competiti...  \n",
       "1  1990's Action Class-Based Classic Co-op Compet...  \n",
       "2  Action Class-Based Classic Co-op Difficult Fir...  \n",
       "3  1990's Action Arena Shooter Classic Co-op Comp...  \n",
       "4  1990's Action Adventure Aliens Atmospheric Cla...  "
      ]
     },
     "execution_count": 5,
     "metadata": {},
     "output_type": "execute_result"
    }
   ],
   "source": [
    "print(f\"Data loaded successfully. Found {len(df)} games.\")\n",
    "print(\"Starting feature engineering...\")\n",
    "df.fillna('', inplace=True)\n",
    "df.head()"
   ]
  },
  {
   "cell_type": "code",
   "execution_count": 6,
   "id": "dc418ca1",
   "metadata": {
    "execution": {
     "iopub.execute_input": "2025-08-22T11:25:03.923391Z",
     "iopub.status.busy": "2025-08-22T11:25:03.922934Z",
     "iopub.status.idle": "2025-08-22T11:25:03.937376Z",
     "shell.execute_reply": "2025-08-22T11:25:03.936879Z"
    },
    "papermill": {
     "duration": 0.019421,
     "end_time": "2025-08-22T11:25:03.938419",
     "exception": false,
     "start_time": "2025-08-22T11:25:03.918998",
     "status": "completed"
    },
    "tags": []
   },
   "outputs": [],
   "source": [
    "for col in ['positive_reviews', 'negative_reviews', \n",
    "            'achievements_count']:\n",
    "    df[col] = pd.to_numeric(df[col], errors='coerce').fillna(0).astype(int)\n",
    "for col in ['genres', 'categories', 'tags', 'short_description']:\n",
    "    df[col] = df[col].fillna(\"\")"
   ]
  },
  {
   "cell_type": "code",
   "execution_count": 7,
   "id": "3d4c91fd",
   "metadata": {
    "execution": {
     "iopub.execute_input": "2025-08-22T11:25:03.945944Z",
     "iopub.status.busy": "2025-08-22T11:25:03.945750Z",
     "iopub.status.idle": "2025-08-22T11:25:04.230535Z",
     "shell.execute_reply": "2025-08-22T11:25:04.229872Z"
    },
    "papermill": {
     "duration": 0.290325,
     "end_time": "2025-08-22T11:25:04.232014",
     "exception": false,
     "start_time": "2025-08-22T11:25:03.941689",
     "status": "completed"
    },
    "tags": []
   },
   "outputs": [],
   "source": [
    "def create_soup(x):\n",
    "    return (x['short_description'] + ' ' + \n",
    "            x['genres'].replace('; ', ' ') + ' ' + \n",
    "            x['categories'].replace('; ', ' ') + ' ' + \n",
    "            x['tags'].replace('; ', ' ')).lower()\n",
    "df['soup'] = df.apply(create_soup, axis=1)"
   ]
  },
  {
   "cell_type": "code",
   "execution_count": 8,
   "id": "c6fceabd",
   "metadata": {
    "execution": {
     "iopub.execute_input": "2025-08-22T11:25:04.240018Z",
     "iopub.status.busy": "2025-08-22T11:25:04.239804Z",
     "iopub.status.idle": "2025-08-22T11:25:04.243495Z",
     "shell.execute_reply": "2025-08-22T11:25:04.242801Z"
    },
    "papermill": {
     "duration": 0.009044,
     "end_time": "2025-08-22T11:25:04.244828",
     "exception": false,
     "start_time": "2025-08-22T11:25:04.235784",
     "status": "completed"
    },
    "tags": []
   },
   "outputs": [],
   "source": [
    "tfidf = TfidfVectorizer(stop_words = \"english\")"
   ]
  },
  {
   "cell_type": "code",
   "execution_count": 9,
   "id": "d0b70d51",
   "metadata": {
    "execution": {
     "iopub.execute_input": "2025-08-22T11:25:04.252365Z",
     "iopub.status.busy": "2025-08-22T11:25:04.252143Z",
     "iopub.status.idle": "2025-08-22T11:25:05.271045Z",
     "shell.execute_reply": "2025-08-22T11:25:05.270241Z"
    },
    "papermill": {
     "duration": 1.024391,
     "end_time": "2025-08-22T11:25:05.272749",
     "exception": false,
     "start_time": "2025-08-22T11:25:04.248358",
     "status": "completed"
    },
    "tags": []
   },
   "outputs": [],
   "source": [
    "tfidf_matrix = tfidf.fit_transform(df['soup'])"
   ]
  },
  {
   "cell_type": "code",
   "execution_count": 10,
   "id": "55aa32d7",
   "metadata": {
    "execution": {
     "iopub.execute_input": "2025-08-22T11:25:05.281689Z",
     "iopub.status.busy": "2025-08-22T11:25:05.281254Z",
     "iopub.status.idle": "2025-08-22T11:25:28.218398Z",
     "shell.execute_reply": "2025-08-22T11:25:28.217539Z"
    },
    "papermill": {
     "duration": 22.943627,
     "end_time": "2025-08-22T11:25:28.220025",
     "exception": false,
     "start_time": "2025-08-22T11:25:05.276398",
     "status": "completed"
    },
    "tags": []
   },
   "outputs": [],
   "source": [
    "cosine_sim = cosine_similarity(tfidf_matrix, tfidf_matrix)"
   ]
  },
  {
   "cell_type": "code",
   "execution_count": 11,
   "id": "45ade976",
   "metadata": {
    "execution": {
     "iopub.execute_input": "2025-08-22T11:25:28.228410Z",
     "iopub.status.busy": "2025-08-22T11:25:28.227790Z",
     "iopub.status.idle": "2025-08-22T11:25:28.235381Z",
     "shell.execute_reply": "2025-08-22T11:25:28.234835Z"
    },
    "papermill": {
     "duration": 0.012839,
     "end_time": "2025-08-22T11:25:28.236584",
     "exception": false,
     "start_time": "2025-08-22T11:25:28.223745",
     "status": "completed"
    },
    "tags": []
   },
   "outputs": [],
   "source": [
    "indices = pd.Series(df.index, index=df['name']).drop_duplicates()"
   ]
  },
  {
   "cell_type": "code",
   "execution_count": 12,
   "id": "78d7b8e1",
   "metadata": {
    "execution": {
     "iopub.execute_input": "2025-08-22T11:25:28.245047Z",
     "iopub.status.busy": "2025-08-22T11:25:28.244463Z",
     "iopub.status.idle": "2025-08-22T11:25:28.249608Z",
     "shell.execute_reply": "2025-08-22T11:25:28.248836Z"
    },
    "papermill": {
     "duration": 0.0104,
     "end_time": "2025-08-22T11:25:28.250817",
     "exception": false,
     "start_time": "2025-08-22T11:25:28.240417",
     "status": "completed"
    },
    "tags": []
   },
   "outputs": [],
   "source": [
    "number_of_game_recommendations = 20\n",
    "def get_recommendations(title, cosine_sim=cosine_sim):\n",
    "    \"\"\"\n",
    "    This function takes a game title and returns the top 5 most similar games.\n",
    "    \"\"\"\n",
    "    if title not in indices:\n",
    "        return f\"Game '{title}' not found in the dataset.\"\n",
    "    idx = indices[title]\n",
    "    sim_scores = list(enumerate(cosine_sim[idx]))\n",
    "    sim_scores = sorted(sim_scores, key=lambda x: x[1], reverse=True)\n",
    "    sim_scores = sim_scores[1:number_of_game_recommendations]\n",
    "    game_indices = [i[0] for i in sim_scores]\n",
    "    return df['name'].iloc[game_indices]"
   ]
  },
  {
   "cell_type": "code",
   "execution_count": 13,
   "id": "58c20c02",
   "metadata": {
    "execution": {
     "iopub.execute_input": "2025-08-22T11:25:28.258378Z",
     "iopub.status.busy": "2025-08-22T11:25:28.257937Z",
     "iopub.status.idle": "2025-08-22T11:25:28.283172Z",
     "shell.execute_reply": "2025-08-22T11:25:28.282693Z"
    },
    "papermill": {
     "duration": 0.030074,
     "end_time": "2025-08-22T11:25:28.284186",
     "exception": false,
     "start_time": "2025-08-22T11:25:28.254112",
     "status": "completed"
    },
    "tags": []
   },
   "outputs": [],
   "source": [
    "game_title = 'Lightmatter'\n",
    "recommendations = get_recommendations(game_title)"
   ]
  },
  {
   "cell_type": "code",
   "execution_count": 14,
   "id": "50b3d030",
   "metadata": {
    "execution": {
     "iopub.execute_input": "2025-08-22T11:25:28.291420Z",
     "iopub.status.busy": "2025-08-22T11:25:28.291244Z",
     "iopub.status.idle": "2025-08-22T11:25:28.295544Z",
     "shell.execute_reply": "2025-08-22T11:25:28.294794Z"
    },
    "papermill": {
     "duration": 0.009328,
     "end_time": "2025-08-22T11:25:28.296830",
     "exception": false,
     "start_time": "2025-08-22T11:25:28.287502",
     "status": "completed"
    },
    "tags": []
   },
   "outputs": [
    {
     "name": "stdout",
     "output_type": "stream",
     "text": [
      "19833                                     Get To Work\n",
      "3873                        Lakeview Cabin Collection\n",
      "6957                                      Attempt[42]\n",
      "14311                  Bright Paw: Definitive Edition\n",
      "4389            Songs for a Hero - Definitive Edition\n",
      "2817                                          The Way\n",
      "7537                                          Nephise\n",
      "11129                               The Last Campfire\n",
      "5778                                         Event[0]\n",
      "19175                                  SharpShooter3D\n",
      "10407                                   The Last Cube\n",
      "5435     ! That Bastard Is Trying To Steal Our Gold !\n",
      "13922                                         Lab Rat\n",
      "18266                     THE MULLER-POWELL PRINCIPLE\n",
      "5504                                  The Eyes of Ara\n",
      "3625                                          Armillo\n",
      "7556                                         TARTARUS\n",
      "14770                                   Gravity Field\n",
      "629                        Hamilton's Great Adventure\n",
      "Name: name, dtype: object\n"
     ]
    }
   ],
   "source": [
    "print(recommendations)"
   ]
  },
  {
   "cell_type": "code",
   "execution_count": null,
   "id": "1cb450bd",
   "metadata": {
    "execution": {
     "iopub.execute_input": "2025-08-22T11:17:10.994960Z",
     "iopub.status.busy": "2025-08-22T11:17:10.994371Z",
     "iopub.status.idle": "2025-08-22T11:17:10.998777Z",
     "shell.execute_reply": "2025-08-22T11:17:10.998112Z",
     "shell.execute_reply.started": "2025-08-22T11:17:10.994935Z"
    },
    "papermill": {
     "duration": 0.003061,
     "end_time": "2025-08-22T11:25:28.303447",
     "exception": false,
     "start_time": "2025-08-22T11:25:28.300386",
     "status": "completed"
    },
    "tags": []
   },
   "outputs": [],
   "source": []
  },
  {
   "cell_type": "code",
   "execution_count": null,
   "id": "ee1e7ccb",
   "metadata": {
    "papermill": {
     "duration": 0.003502,
     "end_time": "2025-08-22T11:25:28.310561",
     "exception": false,
     "start_time": "2025-08-22T11:25:28.307059",
     "status": "completed"
    },
    "tags": []
   },
   "outputs": [],
   "source": []
  }
 ],
 "metadata": {
  "kaggle": {
   "accelerator": "gpu",
   "dataSources": [],
   "dockerImageVersionId": 31089,
   "isGpuEnabled": true,
   "isInternetEnabled": true,
   "language": "python",
   "sourceType": "notebook"
  },
  "kernelspec": {
   "display_name": "Python 3",
   "language": "python",
   "name": "python3"
  },
  "language_info": {
   "codemirror_mode": {
    "name": "ipython",
    "version": 3
   },
   "file_extension": ".py",
   "mimetype": "text/x-python",
   "name": "python",
   "nbconvert_exporter": "python",
   "pygments_lexer": "ipython3",
   "version": "3.11.13"
  },
  "papermill": {
   "default_parameters": {},
   "duration": 100.906203,
   "end_time": "2025-08-22T11:25:29.131823",
   "environment_variables": {},
   "exception": null,
   "input_path": "__notebook__.ipynb",
   "output_path": "__notebook__.ipynb",
   "parameters": {},
   "start_time": "2025-08-22T11:23:48.225620",
   "version": "2.6.0"
  }
 },
 "nbformat": 4,
 "nbformat_minor": 5
}
